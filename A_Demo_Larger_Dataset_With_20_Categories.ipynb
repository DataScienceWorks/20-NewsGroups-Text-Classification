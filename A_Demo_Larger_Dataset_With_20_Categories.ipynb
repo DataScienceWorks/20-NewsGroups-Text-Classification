{
 "cells": [
  {
   "cell_type": "code",
   "execution_count": null,
   "metadata": {},
   "outputs": [],
   "source": [
    "%matplotlib inline\n",
    "import pandas as pd\n",
    "import numpy as np"
   ]
  },
  {
   "cell_type": "code",
   "execution_count": null,
   "metadata": {},
   "outputs": [],
   "source": [
    "# Pipeline\n",
    "from sklearn.pipeline import Pipeline\n",
    "\n",
    "# Feature Extraction\n",
    "from sklearn.feature_extraction.text import CountVectorizer, TfidfTransformer\n",
    "\n",
    "# Classifiers\n",
    "from sklearn.naive_bayes import MultinomialNB\n",
    "from sklearn.linear_model import SGDClassifier\n",
    "\n",
    "# Metrics\n",
    "from sklearn.metrics import classification_report, confusion_matrix"
   ]
  },
  {
   "cell_type": "code",
   "execution_count": null,
   "metadata": {},
   "outputs": [],
   "source": [
    "# from sklearn.datasets import fetch_20newsgroups\n",
    "\n",
    "# train_bunch = fetch_20newsgroups(subset='train')\n",
    "# print('train_bunch size :', len(train_bunch))\n",
    "\n",
    "# test_bunch = fetch_20newsgroups(subset='train')\n",
    "# print('test_bunch :', len(test_bunch))"
   ]
  },
  {
   "cell_type": "code",
   "execution_count": null,
   "metadata": {},
   "outputs": [],
   "source": [
    "# Ref.: http://scikit-learn.org/stable/datasets/index.html#loading-from-external-datasets\n",
    "# scikit-learn’s datasets.\n",
    "# load_files for directories of text files where the name of each directory is the name of each category and \n",
    "# each file inside of each directory corresponds to one sample from that category\n",
    "from sklearn.datasets import load_files\n",
    "\n",
    "# Note: load_files by default shuffles the dataset :)\n",
    "train_bunch = load_files('data/20news-bydate-train')\n",
    "test_bunch = load_files('data/20news-bydate-test')\n",
    "\n",
    "print(len(train_bunch)) # 5\n",
    "print(len(test_bunch)) # 5"
   ]
  },
  {
   "cell_type": "code",
   "execution_count": null,
   "metadata": {},
   "outputs": [],
   "source": [
    "train_bunch.keys() # dict_keys(['data', 'filenames', 'target_names', 'target', 'DESCR'])"
   ]
  },
  {
   "cell_type": "code",
   "execution_count": null,
   "metadata": {},
   "outputs": [],
   "source": [
    "print(type(train_bunch.data)) # list\n",
    "print(len(train_bunch.data)) # 11314\n",
    "print(len(test_bunch.data)) # 7532"
   ]
  },
  {
   "cell_type": "code",
   "execution_count": null,
   "metadata": {},
   "outputs": [],
   "source": [
    "print('Description :',train_bunch.DESCR)\n",
    "print(\"%d documents\" % len(train_bunch.filenames)) # 11314 documents\n",
    "print(\"%d categories\" % len(train_bunch.target_names)) # 20 categories\n",
    "print(\"\\nCategories :\")\n",
    "for i,val in enumerate(train_bunch.target_names): # List of possible categories in dataset\n",
    "    print(i, ' : ',val)"
   ]
  },
  {
   "cell_type": "code",
   "execution_count": null,
   "metadata": {},
   "outputs": [],
   "source": [
    "print(train_bunch.target[:20])"
   ]
  },
  {
   "cell_type": "code",
   "execution_count": null,
   "metadata": {},
   "outputs": [],
   "source": [
    "type(train_bunch.data)"
   ]
  },
  {
   "cell_type": "code",
   "execution_count": null,
   "metadata": {},
   "outputs": [],
   "source": [
    "type(train_bunch.data[0]) # bytes"
   ]
  },
  {
   "cell_type": "code",
   "execution_count": null,
   "metadata": {},
   "outputs": [],
   "source": [
    "# Bag of Words\n",
    "cvec = CountVectorizer()\n",
    "data = map(lambda d : d.decode('utf-8','ignore'),\n",
    "          train_bunch.data)\n",
    "xtrain_counts = cvec.fit_transform(data)\n",
    "xtrain_counts.shape # (11314, 130093)"
   ]
  },
  {
   "cell_type": "code",
   "execution_count": null,
   "metadata": {},
   "outputs": [],
   "source": [
    "# Normalize occurance with Frequencies\n",
    "tfidtrans = TfidfTransformer()\n",
    "xtrain_tfid = tfidtrans.fit_transform(xtrain_counts)\n",
    "xtrain_tfid.shape # (11314, 130093)"
   ]
  },
  {
   "cell_type": "markdown",
   "metadata": {},
   "source": [
    "### Build Pipeline with Multinomial Naive Bayes Classifier"
   ]
  },
  {
   "cell_type": "code",
   "execution_count": null,
   "metadata": {},
   "outputs": [],
   "source": [
    "pclf = Pipeline([\n",
    "    ('cvec',cvec),\n",
    "    ('tfidtrans', tfidtrans),\n",
    "    ('nbclf', MultinomialNB())\n",
    "])\n",
    "\n",
    "data = map(lambda d : d.decode('utf-8','ignore'),\n",
    "          train_bunch.data)\n",
    "\n",
    "pclf.fit(data, train_bunch.target)"
   ]
  },
  {
   "cell_type": "code",
   "execution_count": null,
   "metadata": {},
   "outputs": [],
   "source": [
    "testdata = map(lambda d : d.decode('utf-8','ignore'), \n",
    "               test_bunch.data)\n",
    "preds = pclf.predict(testdata)\n",
    "\n",
    "acc = np.mean(preds == test_bunch.target)\n",
    "print('NB Prediction Accuracy :', acc) # NB Prediction Accuracy : 0.7738980350504514\n",
    "\n",
    "creport = classification_report(test_bunch.target, preds, target_names=train_bunch.target_names)\n",
    "print(creport)\n",
    "\n",
    "print( confusion_matrix(test_bunch.target, preds) )\n",
    "'''\n",
    "                          precision    recall  f1-score   support\n",
    "\n",
    "             alt.atheism       0.80      0.52      0.63       319\n",
    "           comp.graphics       0.81      0.65      0.72       389\n",
    " comp.os.ms-windows.misc       0.82      0.65      0.73       394\n",
    "comp.sys.ibm.pc.hardware       0.67      0.78      0.72       392\n",
    "   comp.sys.mac.hardware       0.86      0.77      0.81       385\n",
    "          comp.windows.x       0.89      0.75      0.82       395\n",
    "            misc.forsale       0.93      0.69      0.80       390\n",
    "               rec.autos       0.85      0.92      0.88       396\n",
    "         rec.motorcycles       0.94      0.93      0.93       398\n",
    "      rec.sport.baseball       0.92      0.90      0.91       397\n",
    "        rec.sport.hockey       0.89      0.97      0.93       399\n",
    "               sci.crypt       0.59      0.97      0.74       396\n",
    "         sci.electronics       0.84      0.60      0.70       393\n",
    "                 sci.med       0.92      0.74      0.82       396\n",
    "               sci.space       0.84      0.89      0.87       394\n",
    "  soc.religion.christian       0.44      0.98      0.61       398\n",
    "      talk.politics.guns       0.64      0.94      0.76       364\n",
    "   talk.politics.mideast       0.93      0.91      0.92       376\n",
    "      talk.politics.misc       0.96      0.42      0.58       310\n",
    "      talk.religion.misc       0.97      0.14      0.24       251\n",
    "\n",
    "             avg / total       0.82      0.77      0.77      7532\n",
    "'''"
   ]
  },
  {
   "cell_type": "markdown",
   "metadata": {},
   "source": [
    "### Build Pipeline with SVM Classifier"
   ]
  },
  {
   "cell_type": "code",
   "execution_count": null,
   "metadata": {},
   "outputs": [],
   "source": [
    "svm_pclf = Pipeline([\n",
    "    ('cvec',cvec),\n",
    "    ('tfidtrans', tfidtrans),\n",
    "    ('nbclf', SGDClassifier())\n",
    "])\n",
    "\n",
    "data = map(lambda d : d.decode('utf-8','ignore'),\n",
    "          train_bunch.data)\n",
    "\n",
    "svm_pclf.fit(data, train_bunch.target)"
   ]
  },
  {
   "cell_type": "code",
   "execution_count": null,
   "metadata": {},
   "outputs": [],
   "source": [
    "testdata = map(lambda d : d.decode('utf-8','ignore'), \n",
    "               test_bunch.data)\n",
    "preds = svm_pclf.predict(testdata)\n",
    "\n",
    "acc = np.mean(preds == test_bunch.target)\n",
    "print('NB Prediction Accuracy :', acc) # NB Prediction Accuracy : 0.851035581518853\n",
    "\n",
    "creport = classification_report(test_bunch.target, preds, target_names=train_bunch.target_names)\n",
    "print(creport)\n",
    "\n",
    "print( confusion_matrix(test_bunch.target, preds) )\n",
    "'''\n",
    "                          precision    recall  f1-score   support\n",
    "\n",
    "             alt.atheism       0.82      0.77      0.79       319\n",
    "           comp.graphics       0.76      0.79      0.77       389\n",
    " comp.os.ms-windows.misc       0.76      0.74      0.75       394\n",
    "comp.sys.ibm.pc.hardware       0.73      0.74      0.74       392\n",
    "   comp.sys.mac.hardware       0.83      0.86      0.84       385\n",
    "          comp.windows.x       0.86      0.77      0.81       395\n",
    "            misc.forsale       0.82      0.91      0.86       390\n",
    "               rec.autos       0.92      0.89      0.90       396\n",
    "         rec.motorcycles       0.94      0.95      0.95       398\n",
    "      rec.sport.baseball       0.91      0.94      0.93       397\n",
    "        rec.sport.hockey       0.96      0.97      0.97       399\n",
    "               sci.crypt       0.93      0.95      0.94       396\n",
    "         sci.electronics       0.85      0.76      0.80       393\n",
    "                 sci.med       0.91      0.88      0.90       396\n",
    "               sci.space       0.88      0.95      0.92       394\n",
    "  soc.religion.christian       0.83      0.94      0.88       398\n",
    "      talk.politics.guns       0.75      0.92      0.83       364\n",
    "   talk.politics.mideast       0.97      0.91      0.94       376\n",
    "      talk.politics.misc       0.87      0.61      0.72       310\n",
    "      talk.religion.misc       0.70      0.61      0.65       251\n",
    "\n",
    "             avg / total       0.85      0.85      0.85      7532\n",
    "'''"
   ]
  },
  {
   "cell_type": "code",
   "execution_count": null,
   "metadata": {},
   "outputs": [],
   "source": []
  }
 ],
 "metadata": {
  "kernelspec": {
   "display_name": "Python 3",
   "language": "python",
   "name": "python3"
  },
  "language_info": {
   "codemirror_mode": {
    "name": "ipython",
    "version": 3
   },
   "file_extension": ".py",
   "mimetype": "text/x-python",
   "name": "python",
   "nbconvert_exporter": "python",
   "pygments_lexer": "ipython3",
   "version": "3.6.6"
  }
 },
 "nbformat": 4,
 "nbformat_minor": 2
}
